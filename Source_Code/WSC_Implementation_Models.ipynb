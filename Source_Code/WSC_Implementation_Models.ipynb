{
  "nbformat": 4,
  "nbformat_minor": 0,
  "metadata": {
    "colab": {
      "name": "WSC_Implementation_Models.ipynb",
      "provenance": [],
      "collapsed_sections": [
        "ksxWdVc8DvCG",
        "KYJSHloED5T-",
        "9r1x9XLRoGpg",
        "_aprseLCNGlj",
        "4tkp_zqgokgD",
        "jVwAl1go1Gm_",
        "xHOk2eFt1IJb",
        "_j7GCxyfqpC0",
        "E5NVT7vbLJwV",
        "_CPDmJij34xQ",
        "Q73yugvT36XW",
        "icXQ5mFyqq1G",
        "-UWcpwZ0Ls-x",
        "euIFFeS1Ojkd"
      ]
    },
    "kernelspec": {
      "name": "python3",
      "display_name": "Python 3"
    },
    "language_info": {
      "name": "python"
    }
  },
  "cells": [
    {
      "cell_type": "markdown",
      "metadata": {
        "id": "U5jv92YhDlfZ"
      },
      "source": [
        "# Community  Detection  In  Complex  Network  Using  Leader  Knowledge\n",
        "\n",
        "> File contains code for SCAN and Girvan-Newmann algorithm and their performance evaluation"
      ]
    },
    {
      "cell_type": "markdown",
      "metadata": {
        "id": "b8eOS5EtDsO0"
      },
      "source": [
        "Work done by \n",
        "* Abhishek Kumar - 202IT001\n",
        "* Nitin Sharma - 202IT017\n",
        "* Mohd Asif Khan Khaisagi - 202IT013"
      ]
    },
    {
      "cell_type": "markdown",
      "metadata": {
        "id": "ksxWdVc8DvCG"
      },
      "source": [
        "## Library Import"
      ]
    },
    {
      "cell_type": "code",
      "metadata": {
        "id": "4Q4eCCghnflt"
      },
      "source": [
        "%%capture\n",
        "!pip install cdlib\n",
        "import networkx as nx\n",
        "import matplotlib.pyplot as plt\n",
        "from matplotlib import colors\n",
        "from matplotlib.ticker import PercentFormatter\n",
        "import pandas as pd\n",
        "import numpy as np\n",
        "import random\n",
        "from networkx.algorithms.components import connected_components\n",
        "from cdlib import algorithms"
      ],
      "execution_count": null,
      "outputs": []
    },
    {
      "cell_type": "markdown",
      "metadata": {
        "id": "KYJSHloED5T-"
      },
      "source": [
        "## Dataset Imports\n",
        "\n",
        "* American Football : http://konect.cc/networks/dimacs10-football/\n",
        "> This network contains \"American football games between Division IA colleges during regular season Fall 2000.\" Results are not included in the dataset, and neither is home/away information. \n",
        "\n",
        "* Zachary = http://konect.cc/networks/ucidata-zachary/\n",
        "> This is the well-known and much-used Zachary karate club network. The data was collected from the members of a university karate club by Wayne Zachary in 1977. Each node represents a member of the club, and each edge represents a tie between two members of the club. The network is undirected. An often discussed problem using this dataset is to find the two groups of people into which the karate club split after an argument between two teachers. \n",
        "\n",
        "* Political books : http://konect.cc/networks/dimacs10-polbooks/\n",
        "> his is \"[a] network of books about US politics published around the time of the 2004 presidential election and sold by the online bookseller Amazon.com. Edges between books represent frequent copurchasing of books by the same buyers. The network was compiled by V. Krebs and is unpublished, but can found on Krebs' web site (http://www.orgnet.com/). Thanks to Valdis Krebs for permission to post these data on this web site.\""
      ]
    },
    {
      "cell_type": "code",
      "metadata": {
        "id": "tAtaTgb0D7M5"
      },
      "source": [
        "df_football = pd.read_csv('football.csv')\n",
        "karate_graph = nx.karate_club_graph()\n",
        "df_book = pd.read_csv('polbooks.csv')"
      ],
      "execution_count": null,
      "outputs": []
    },
    {
      "cell_type": "markdown",
      "metadata": {
        "id": "9r1x9XLRoGpg"
      },
      "source": [
        "## Testing\n",
        "\n",
        "* We have used 3 testing measures : NMI, ARI, cluster purity\n",
        "* Each of these 3 metrics accepts two values as parameters :\n",
        "  * Truth Values : Actual cluster index of each node\n",
        "  * Predicted Truth Value : Predicted cluster index of each node\n",
        "* Truth values are analogous to Y_test of machine learning based models.\n",
        "* Predicted Truth Values is analogous to Y_predicted of machine learning models. Our algorithm gives clusters as outputs and truth value is the cluster number (0, 1, 2, 3...) or (a, b, c,...) for each node showing which cluster does a particular node actually belongs to.\n",
        "* After clusters are returned by our algorithm, we need to observe the result and give them suitable cluster index. This is similar to labeling in all clustering algorithms where upon forming clusters we give them class labels (eg : spam or ham, 0 or 1, true or false, etc).\n",
        "* For higher performance, Actual and predicted truth values showing clustering of nodes should be overall as similar as possible."
      ]
    },
    {
      "cell_type": "code",
      "metadata": {
        "id": "Xw0EZPI4oTX3"
      },
      "source": [
        "from sklearn.metrics.cluster import normalized_mutual_info_score\n",
        "from sklearn.metrics.cluster import adjusted_rand_score\n",
        "from sklearn import metrics\n",
        "\n",
        "def calculatePurity(y_true, y_pred):\n",
        "    # compute contingency matrix (also called confusion matrix)\n",
        "    contingency_matrix = metrics.cluster.contingency_matrix(y_true, y_pred)\n",
        "    # return purity\n",
        "    return np.sum(np.amax(contingency_matrix, axis=0)) / np.sum(contingency_matrix) \n",
        "\n",
        "def calculateNMI(labels_true, labels_pred) :\n",
        "  return normalized_mutual_info_score(labels_true=labels_true, labels_pred=labels_pred)\n",
        "\n",
        "def calculateARI(labels_true, labels_pred) :\n",
        "  return adjusted_rand_score(labels_true=labels_true, labels_pred=labels_pred)"
      ],
      "execution_count": null,
      "outputs": []
    },
    {
      "cell_type": "markdown",
      "metadata": {
        "id": "_aprseLCNGlj"
      },
      "source": [
        "## Parameters in SCAN and Girvan newmann"
      ]
    },
    {
      "cell_type": "markdown",
      "metadata": {
        "id": "dpCslDyWNWma"
      },
      "source": [
        "* Parameters used in SCAN : \n",
        "  * g_original – a networkx/igraph object\n",
        "  * epsilon – the minimum threshold to assigning cluster membership\n",
        "  * mu – minimum number of neineighbors with a structural similarity that exceeds the threshold epsilon\n",
        "\n",
        "* Parameters used in Girvan-newmann : \n",
        "  * g_original – a networkx/igraph object\n",
        "  * level – the level where to cut the dendrogram\n"
      ]
    },
    {
      "cell_type": "markdown",
      "metadata": {
        "id": "4tkp_zqgokgD"
      },
      "source": [
        "## Zachary\n",
        "\n",
        "Code for testing Zachary database on SCAN and Girvan Newmann"
      ]
    },
    {
      "cell_type": "code",
      "metadata": {
        "id": "tVz7XO7Z39Os"
      },
      "source": [
        "def getZachardyTruth(): # Get Actual Truth value for Zachary database\n",
        "  zachardy_truth_value = [0]*34\n",
        "  zachardy_0_node = [0, 1, 2, 3, 4, 5, 6, 7, 10, 11, 12, 13, 16, 17, 19, 21]\n",
        "  zachardy_1_node = [8, 9, 14, 15, 18, 20, 22, 23, 24, 25, 26, 27, 28, 29, 30, 31, 32, 33] # after subtracting 1 to make node index start from 0\n",
        "\n",
        "  for key in zachardy_1_node :\n",
        "    zachardy_truth_value[key] = 1\n",
        "  \n",
        "  return zachardy_truth_value"
      ],
      "execution_count": null,
      "outputs": []
    },
    {
      "cell_type": "markdown",
      "metadata": {
        "id": "ZJx7g0utKX2m"
      },
      "source": [
        "Printing graph details"
      ]
    },
    {
      "cell_type": "code",
      "metadata": {
        "colab": {
          "base_uri": "https://localhost:8080/"
        },
        "id": "ZiC_ApFsokH6",
        "outputId": "128e3d70-04f7-4352-efd5-7716df209654"
      },
      "source": [
        "karate_graph = nx.karate_club_graph()\n",
        "print(nx.info(karate_graph))\n",
        "print(\"Number of connected_components : \", nx.number_connected_components(karate_graph))"
      ],
      "execution_count": null,
      "outputs": [
        {
          "output_type": "stream",
          "text": [
            "Name: Zachary's Karate Club\n",
            "Type: Graph\n",
            "Number of nodes: 34\n",
            "Number of edges: 78\n",
            "Average degree:   4.5882\n",
            "Number of connected_components :  1\n"
          ],
          "name": "stdout"
        }
      ]
    },
    {
      "cell_type": "code",
      "metadata": {
        "id": "_yUtnu9P10_C"
      },
      "source": [
        "zachary_truth = getZachardyTruth()"
      ],
      "execution_count": null,
      "outputs": []
    },
    {
      "cell_type": "markdown",
      "metadata": {
        "id": "jVwAl1go1Gm_"
      },
      "source": [
        "### Scan"
      ]
    },
    {
      "cell_type": "markdown",
      "metadata": {
        "id": "3aEJudI1KcoL"
      },
      "source": [
        "* Using in built SCAN algorithm for creation of graph and then finding communities from it."
      ]
    },
    {
      "cell_type": "code",
      "metadata": {
        "colab": {
          "base_uri": "https://localhost:8080/"
        },
        "id": "o6LUi4NAsMCL",
        "outputId": "d922a370-4b49-481e-8c37-9a083bfc52f8"
      },
      "source": [
        "karate_scan = algorithms.scan(karate_graph, 0.5, 2)\n",
        "karate_scan.communities"
      ],
      "execution_count": null,
      "outputs": [
        {
          "output_type": "execute_result",
          "data": {
            "text/plain": [
              "[[0, 1, 2, 3, 7, 13, 17, 21, 12],\n",
              " [32, 8, 30, 33, 29, 23, 26, 27],\n",
              " [5, 6, 4, 16, 10],\n",
              " [24, 25, 31, 28]]"
            ]
          },
          "metadata": {
            "tags": []
          },
          "execution_count": 93
        }
      ]
    },
    {
      "cell_type": "markdown",
      "metadata": {
        "id": "ZaTXabgvKmmY"
      },
      "source": [
        "* Generating predicted truth values for each node relating them with a cluster index denoting the label of cluster that they belong to.\n",
        "\n",
        "* Evaluate metrics\n"
      ]
    },
    {
      "cell_type": "code",
      "metadata": {
        "colab": {
          "base_uri": "https://localhost:8080/"
        },
        "id": "t3D85ToNw4qV",
        "outputId": "c5e86318-03ab-47d3-fe58-ba666ce1d152"
      },
      "source": [
        "zachardy_pred_value_scan = [0]*34\n",
        "\n",
        "new_cluster_dic = { 0 : [0, 1, 2, 3, 7, 13, 17, 21, 12],\n",
        "                    1 : [8, 30, 32, 33, 29, 23, 26, 27],\n",
        "                    2 : [6, 4, 10, 5, 16],\n",
        "                    3 : [25, 24, 31, 28]}\n",
        "\n",
        "for key in new_cluster_dic.keys() :\n",
        "  for val in new_cluster_dic[key] :\n",
        "    zachardy_pred_value_scan[val] = key\n",
        "\n",
        "print(\"NMI : \", calculateNMI(zachary_truth, zachardy_pred_value_scan))\n",
        "print(\"ARI : \", calculateARI(zachary_truth, zachardy_pred_value_scan))\n",
        "print(\"Purity : \", calculatePurity(zachary_truth, zachardy_pred_value_scan))"
      ],
      "execution_count": null,
      "outputs": [
        {
          "output_type": "stream",
          "text": [
            "NMI :  0.38365064769070495\n",
            "ARI :  0.19010221169948605\n",
            "Purity :  0.8235294117647058\n"
          ],
          "name": "stdout"
        }
      ]
    },
    {
      "cell_type": "markdown",
      "metadata": {
        "id": "xHOk2eFt1IJb"
      },
      "source": [
        "### Girvan Newman"
      ]
    },
    {
      "cell_type": "markdown",
      "metadata": {
        "id": "64AnjDzwK84v"
      },
      "source": [
        "* Using in built Girvan-newmann algorithm for creation of graph and then finding communities from it."
      ]
    },
    {
      "cell_type": "code",
      "metadata": {
        "colab": {
          "base_uri": "https://localhost:8080/"
        },
        "id": "hggCJps1sVlI",
        "outputId": "5adbfda7-3061-4b13-e0a6-a75c226ce348"
      },
      "source": [
        "karate_girvan = algorithms.girvan_newman(karate_graph,level=3)\n",
        "karate_girvan.communities"
      ],
      "execution_count": null,
      "outputs": [
        {
          "output_type": "execute_result",
          "data": {
            "text/plain": [
              "[[32, 33, 2, 8, 14, 15, 18, 20, 22, 23, 24, 25, 26, 27, 28, 29, 30, 31],\n",
              " [0, 1, 3, 7, 11, 12, 13, 17, 19, 21],\n",
              " [4, 5, 6, 10, 16],\n",
              " [9]]"
            ]
          },
          "metadata": {
            "tags": []
          },
          "execution_count": 105
        }
      ]
    },
    {
      "cell_type": "markdown",
      "metadata": {
        "id": "WJ7dKR33K37c"
      },
      "source": [
        "* Generating predicted truth values for each node relating them with a cluster index denoting the label of cluster that they belong to.\n",
        "\n",
        "* Evaluate metrics"
      ]
    },
    {
      "cell_type": "code",
      "metadata": {
        "colab": {
          "base_uri": "https://localhost:8080/"
        },
        "id": "GZkMzG1hyIzN",
        "outputId": "3a37689b-79fe-4f66-da87-6c960fab0471"
      },
      "source": [
        "zachardy_pred_value_girvan = [0]*34\n",
        "\n",
        "new_cluster_dic = { 1 : [32, 33, 2, 8, 14, 15, 18, 20, 22, 23, 24, 25, 26, 27, 28, 29, 30, 31],\n",
        "                    0 : [0, 1, 3, 7, 11, 12, 13, 17, 19, 21],\n",
        "                    2 : [4, 5, 6, 10, 16],\n",
        "                    3 : [9]}\n",
        "\n",
        "for key in new_cluster_dic.keys() :\n",
        "  for val in new_cluster_dic[key] :\n",
        "    zachardy_pred_value_girvan[val] = key\n",
        "\n",
        "print(\"NMI : \", calculateNMI(zachary_truth, zachardy_pred_value_girvan))\n",
        "print(\"ARI : \", calculateARI(zachary_truth, zachardy_pred_value_girvan))\n",
        "print(\"Purity : \", calculatePurity(zachary_truth, zachardy_pred_value_girvan))"
      ],
      "execution_count": null,
      "outputs": [
        {
          "output_type": "stream",
          "text": [
            "NMI :  0.651560852017932\n",
            "ARI :  0.6446027144804285\n",
            "Purity :  0.9705882352941176\n"
          ],
          "name": "stdout"
        }
      ]
    },
    {
      "cell_type": "markdown",
      "metadata": {
        "id": "_j7GCxyfqpC0"
      },
      "source": [
        "## Football\n",
        "\n",
        "Code for testing Football database on SCAN and Girvan Newmann"
      ]
    },
    {
      "cell_type": "code",
      "metadata": {
        "colab": {
          "base_uri": "https://localhost:8080/"
        },
        "id": "ckZGcuxApQQs",
        "outputId": "0834cfd0-c462-462b-e29e-97fc0c65b67d"
      },
      "source": [
        "df_football = pd.read_csv('football.csv')\n",
        "football_graph = nx.from_pandas_edgelist(df_football, source='from', target=' to')\n",
        "print(nx.info(football_graph))\n",
        "print(\"Number of connected_components : \", nx.number_connected_components(football_graph))"
      ],
      "execution_count": null,
      "outputs": [
        {
          "output_type": "stream",
          "text": [
            "Name: \n",
            "Type: Graph\n",
            "Number of nodes: 115\n",
            "Number of edges: 613\n",
            "Average degree:  10.6609\n",
            "Number of connected_components :  1\n"
          ],
          "name": "stdout"
        }
      ]
    },
    {
      "cell_type": "markdown",
      "metadata": {
        "id": "E5NVT7vbLJwV"
      },
      "source": [
        "#### Actual Truth Values for football dataset"
      ]
    },
    {
      "cell_type": "code",
      "metadata": {
        "id": "LC_8A-eN3icD"
      },
      "source": [
        "football_truth = [7, 0, 2, 3, 7, 3, 2, 8, 8, 7, 3, 10, 6, 2, 6, 2, 7, 9, 6, 1, 9, 8, 8, \n",
        "                  7, 10, 0, 6, 9, 11, 1, 1, 6, 2, 0, 6, 1, 5, 0, 6, 2, 3, 7, 5, 6, 4, 0, 11, 2, \n",
        "                  4, 11, 10, 8, 3, 11, 6, 1, 9, 4, 11, 10, 2, 6, 9, 10, 2, 9, 4, 11, 8, 10, 9, \n",
        "                  6, 3, 11, 3, 4, 9, 8, 8, 1, 5, 3, 5, 11, 3, 6, 4, 9, 11, 0, 5, 4, 4, 7, 1, \n",
        "                  9, 9, 10, 3, 6, 2, 1, 3, 0, 7, 0, 2, 3, 8, 0, 4, 8, 4, 9, 11]"
      ],
      "execution_count": null,
      "outputs": []
    },
    {
      "cell_type": "markdown",
      "metadata": {
        "id": "_CPDmJij34xQ"
      },
      "source": [
        "### Scan"
      ]
    },
    {
      "cell_type": "markdown",
      "metadata": {
        "id": "RhdrYpgfLTRi"
      },
      "source": [
        "* Using in built SCAN algorithm for creation of graph and then finding communities from it."
      ]
    },
    {
      "cell_type": "code",
      "metadata": {
        "colab": {
          "base_uri": "https://localhost:8080/"
        },
        "id": "9ushjhvD38Q7",
        "outputId": "e1611245-2b13-486d-a1d0-17909fcf654c"
      },
      "source": [
        "football_scan = algorithms.scan(football_graph, 0.5, 2)\n",
        "football_scan.communities"
      ],
      "execution_count": null,
      "outputs": [
        {
          "output_type": "execute_result",
          "data": {
            "text/plain": [
              "[[54, 31, 18, 34, 61, 71, 99, 38, 26, 14, 12, 43, 85],\n",
              " [62, 27, 17, 56, 65, 70, 76, 95, 96, 87, 20, 113],\n",
              " [102, 74, 72, 52, 3, 40, 84, 5, 98, 10, 81, 107],\n",
              " [15, 13, 2, 32, 39, 60, 64, 100, 106, 6, 47],\n",
              " [78, 77, 22, 7, 51, 21, 8, 108, 111, 68],\n",
              " [1, 25, 33, 37, 45, 89, 103, 105, 109],\n",
              " [53, 49, 46, 67, 73, 83, 88, 110, 114],\n",
              " [75, 66, 44, 48, 86, 91, 92, 112, 57],\n",
              " [29, 19, 30, 35, 55, 79, 94, 101],\n",
              " [93, 0, 9, 16, 23, 41, 104, 4],\n",
              " [50, 24, 11, 28, 69, 90]]"
            ]
          },
          "metadata": {
            "tags": []
          },
          "execution_count": 115
        }
      ]
    },
    {
      "cell_type": "markdown",
      "metadata": {
        "id": "RX0X-JAzLjz0"
      },
      "source": [
        "* Generating predicted truth values for each node relating them with a cluster index denoting the label of cluster that they belong to.\n",
        "\n",
        "* Evaluate metrics"
      ]
    },
    {
      "cell_type": "code",
      "metadata": {
        "colab": {
          "base_uri": "https://localhost:8080/"
        },
        "id": "gCA07ep-4UqP",
        "outputId": "ce196938-e450-43cf-a857-312ed6928aa8"
      },
      "source": [
        "facebook_pred_vals_scan = [0]*115\n",
        "new_cluster_dic = {\n",
        "                    3: [14, 12, 26, 38, 43, 85, 54, 31, 34, 18, 61, 71, 99],\n",
        "                    5: [3, 5, 52, 84, 98, 40, 72, 74, 81, 102, 107, 10],\n",
        "                    6: [76, 27, 17, 56, 62, 65, 70, 95, 96, 20, 87, 113],\n",
        "                    1: [47, 6, 32, 39, 60, 64, 100, 106, 15, 13, 2],\n",
        "                    7: [7, 21, 22, 68, 77, 78, 108, 111, 8, 51],\n",
        "                    9: [44, 48, 57, 66, 75, 86, 91, 92, 112],\n",
        "                    8: [46, 49, 53, 67, 73, 83, 88, 110, 114],\n",
        "                    4: [103, 33, 1, 25, 37, 45, 89, 105, 109],\n",
        "                    10: [19, 29, 35, 55, 79, 94, 101, 30],\n",
        "                    0: [0, 9, 4, 16, 23, 41, 93, 104],\n",
        "                    2: [11, 24, 28, 50, 69, 90]\n",
        "                   }\n",
        "\n",
        "\n",
        "for key in new_cluster_dic.keys() :\n",
        "  for val in new_cluster_dic[key] :\n",
        "    facebook_pred_vals_scan[val] = key\n",
        "\n",
        "print(\"NMI : \", calculateNMI(football_truth, facebook_pred_vals_scan))\n",
        "print(\"ARI : \", calculateARI(football_truth, facebook_pred_vals_scan))\n",
        "print(\"Purity : \", calculatePurity(football_truth, facebook_pred_vals_scan))"
      ],
      "execution_count": null,
      "outputs": [
        {
          "output_type": "stream",
          "text": [
            "NMI :  0.9204052653227827\n",
            "ARI :  0.8595850290406055\n",
            "Purity :  0.9043478260869565\n"
          ],
          "name": "stdout"
        }
      ]
    },
    {
      "cell_type": "markdown",
      "metadata": {
        "id": "Q73yugvT36XW"
      },
      "source": [
        "### Girvan Newman"
      ]
    },
    {
      "cell_type": "markdown",
      "metadata": {
        "id": "d1m8aKTGLdsi"
      },
      "source": [
        "* Using in built Girvan-newmann algorithm for creation of graph and then finding communities from it."
      ]
    },
    {
      "cell_type": "code",
      "metadata": {
        "colab": {
          "base_uri": "https://localhost:8080/"
        },
        "id": "gfxr91c7IlKn",
        "outputId": "31d2bffd-e3dc-4a0e-ff88-a8b46fa7daf6"
      },
      "source": [
        "football_girvan = algorithms.girvan_newman(football_graph, level=11)\n",
        "football_girvan.communities"
      ],
      "execution_count": null,
      "outputs": [
        {
          "output_type": "execute_result",
          "data": {
            "text/plain": [
              "[[34, 99, 36, 38, 71, 42, 43, 12, 14, 18, 85, 54, 26, 61, 31],\n",
              " [64, 32, 2, 100, 6, 39, 106, 13, 47, 15, 82, 60],\n",
              " [98, 3, 5, 102, 40, 72, 74, 107, 10, 81, 52, 84],\n",
              " [96, 65, 70, 76, 17, 113, 20, 87, 56, 27, 62, 95],\n",
              " [68, 7, 8, 108, 77, 78, 111, 50, 51, 21, 22],\n",
              " [66, 75, 44, 48, 112, 80, 86, 57, 91, 92],\n",
              " [67, 73, 110, 46, 49, 114, 83, 53, 88, 58],\n",
              " [1, 33, 37, 103, 105, 45, 109, 89, 25],\n",
              " [0, 4, 104, 9, 41, 16, 23, 93],\n",
              " [35, 101, 79, 19, 30, 55, 29, 94],\n",
              " [69, 11, 24, 90, 28],\n",
              " [97, 59, 63]]"
            ]
          },
          "metadata": {
            "tags": []
          },
          "execution_count": 120
        }
      ]
    },
    {
      "cell_type": "markdown",
      "metadata": {
        "id": "qqr5zWgZLlT1"
      },
      "source": [
        "* Generating predicted truth values for each node relating them with a cluster index denoting the label of cluster that they belong to.\n",
        "\n",
        "* Evaluate metrics"
      ]
    },
    {
      "cell_type": "code",
      "metadata": {
        "colab": {
          "base_uri": "https://localhost:8080/"
        },
        "id": "DVjceUIhKOXn",
        "outputId": "967fa4e9-25f8-4c65-daa1-959ec6be9b2a"
      },
      "source": [
        "facebook_pred_vals_girvan = [0]*115\n",
        "new_cluster_dic = {\n",
        "                    3: [34, 99, 36, 38, 71, 42, 43, 12, 14, 18, 85, 54, 26, 61, 31],\n",
        "                    1: [64, 32, 2, 100, 6, 39, 106, 13, 47, 15, 82, 60],\n",
        "                    5: [98, 3, 5, 102, 40, 72, 74, 107, 10, 81, 52, 84],\n",
        "                    6: [96, 65, 70, 76, 17, 113, 20, 87, 56, 27, 62, 95],\n",
        "                    7: [68, 7, 8, 108, 77, 78, 111, 50, 51, 21, 22],\n",
        "                    9: [66, 75, 44, 48, 112, 80, 86, 57, 91, 92],\n",
        "                    8: [67, 73, 110, 46, 49, 114, 83, 53, 88, 58],\n",
        "                    11: [1, 33, 37, 103, 105, 45, 109, 89, 25],\n",
        "                    0: [0, 4, 104, 9, 41, 16, 23, 93],\n",
        "                    10: [35, 101, 79, 19, 30, 55, 29, 94],\n",
        "                    2: [69, 11, 24, 90, 28],\n",
        "                    4: [97, 59, 63],\n",
        "                   }\n",
        "\n",
        "\n",
        "for key in new_cluster_dic.keys() :\n",
        "  for val in new_cluster_dic[key] :\n",
        "    facebook_pred_vals_girvan[val] = key\n",
        "\n",
        "print(\"NMI : \", calculateNMI(football_truth, facebook_pred_vals_girvan))\n",
        "print(\"ARI : \", calculateARI(football_truth, facebook_pred_vals_girvan))\n",
        "print(\"Purity : \", calculatePurity(football_truth, facebook_pred_vals_girvan))"
      ],
      "execution_count": null,
      "outputs": [
        {
          "output_type": "stream",
          "text": [
            "NMI :  0.9213801197236223\n",
            "ARI :  0.8845869070922053\n",
            "Purity :  0.9304347826086956\n"
          ],
          "name": "stdout"
        }
      ]
    },
    {
      "cell_type": "markdown",
      "metadata": {
        "id": "icXQ5mFyqq1G"
      },
      "source": [
        "## Polbooks\n",
        "\n",
        "Code for testing Polbooks database on SCAN and Girvan Newmann"
      ]
    },
    {
      "cell_type": "code",
      "metadata": {
        "colab": {
          "base_uri": "https://localhost:8080/"
        },
        "id": "ZLeCz2jVpnP-",
        "outputId": "33cfe4a7-eac8-4e61-f6b3-adca3f4d2ff6"
      },
      "source": [
        "df_book = pd.read_csv('polbooks.csv')\n",
        "book_graph = nx.from_pandas_edgelist(df_book, source='from', target='to')\n",
        "print(nx.info(book_graph))\n",
        "print(\"Number of connected_components : \", nx.number_connected_components(book_graph))"
      ],
      "execution_count": null,
      "outputs": [
        {
          "output_type": "stream",
          "text": [
            "Name: \n",
            "Type: Graph\n",
            "Number of nodes: 105\n",
            "Number of edges: 441\n",
            "Average degree:   8.4000\n",
            "Number of connected_components :  1\n"
          ],
          "name": "stdout"
        }
      ]
    },
    {
      "cell_type": "markdown",
      "metadata": {
        "id": "-UWcpwZ0Ls-x"
      },
      "source": [
        "#### Actual Truth value for Book dataset"
      ]
    },
    {
      "cell_type": "code",
      "metadata": {
        "id": "UWHC_DtgqItT"
      },
      "source": [
        "books_truth = [2,0,0,0,2,0,2,2,0,0,0,0,0,0,0,0,0,0,2,0,0,0,\n",
        "              0,0,0,0,0,0,2,0,1,1,0,0,0,0,0,0,0,0,0,0,0,0,\n",
        "              0,0,2,0,2,0,0,2,0,0,0,0,0,0,0,1,1,1,1,1,1,1,\n",
        "              1,1,1,2,1,1,1,1,1,1,2,0,1,1,1,1,1,1,1,1,1,1,\n",
        "              1,1,1,1,1,1,1,1,1,1,1,1,1,1,1,2,2]"
      ],
      "execution_count": null,
      "outputs": []
    },
    {
      "cell_type": "markdown",
      "metadata": {
        "id": "euIFFeS1Ojkd"
      },
      "source": [
        "### Scan"
      ]
    },
    {
      "cell_type": "markdown",
      "metadata": {
        "id": "W-H0YcRdLXLb"
      },
      "source": [
        "* Using in built SCAN algorithm for creation of graph and then finding communities from it."
      ]
    },
    {
      "cell_type": "code",
      "metadata": {
        "colab": {
          "base_uri": "https://localhost:8080/"
        },
        "id": "knzJ6XDsOnxC",
        "outputId": "64ea330f-6312-4009-d196-0ddd8023f219"
      },
      "source": [
        "book_scan = algorithms.scan(book_graph, 0.5, 2)\n",
        "print(book_scan.communities)"
      ],
      "execution_count": null,
      "outputs": [
        {
          "output_type": "stream",
          "text": [
            "[[12, 3, 8, 11, 14, 21, 9, 13, 40, 10, 15, 16, 33, 37, 38, 39, 55, 17, 42, 44, 32, 23, 41, 36, 27, 47, 54, 45, 26, 20, 24, 34, 35, 19, 43, 53, 48, 49, 57], [59, 60, 62, 63, 99, 66, 84, 30, 72, 73, 86, 88, 89, 74, 82, 83, 96, 97, 100, 31, 75, 76, 71, 93, 101, 78, 79, 91, 94, 81, 77, 61, 98, 95, 102, 87], [69, 64, 58, 51, 52, 65, 68], [4, 0, 1, 2, 5, 6], [104, 67, 103]]\n"
          ],
          "name": "stdout"
        }
      ]
    },
    {
      "cell_type": "markdown",
      "metadata": {
        "id": "UTsSVGgGLoDJ"
      },
      "source": [
        "* Generating predicted truth values for each node relating them with a cluster index denoting the label of cluster that they belong to.\n",
        "\n",
        "* Evaluate metrics"
      ]
    },
    {
      "cell_type": "code",
      "metadata": {
        "colab": {
          "base_uri": "https://localhost:8080/"
        },
        "id": "GM0uIknePFkx",
        "outputId": "e47c859f-ea6a-42e6-d52c-b30e3fc7107a"
      },
      "source": [
        "book_pred_vals_scan = [0]*105\n",
        "\n",
        "new_cluster_dic = { \n",
        "                  0: [35, 34, 36, 37, 38, 39, 10, 33, 41, 12, 15, 16, 21, 55, 32, 23, 40, 27, 47, 54, 3, 8, 13, 19, 24, 26, 42, 44, 9, 45, 11, 14, 17, 20, 53, 43, 48, 49, 57], \n",
        "                  1: [62, 59, 60, 63, 99, 66, 84, 30, 72, 73, 86, 88, 89, 74, 82, 83, 96, 97, 100, 31, 75, 76, 71, 93, 101, 78, 79, 91, 94, 81, 77, 61, 98, 95, 102, 87], \n",
        "                  2: [52, 51, 58, 64, 65, 69, 68], \n",
        "                  3: [2, 0, 1, 4, 5, 6], \n",
        "                  4: [67, 103, 104]}\n",
        "\n",
        "for key in new_cluster_dic.keys() :\n",
        "  for val in new_cluster_dic[key] :\n",
        "    book_pred_vals_scan[val] = key\n",
        "\n",
        "print(\"NMI : \", calculateNMI(books_truth, book_pred_vals_scan))\n",
        "print(\"ARI : \", calculateARI(books_truth, book_pred_vals_scan))\n",
        "print(\"Purity : \", calculatePurity(books_truth, book_pred_vals_scan))\n"
      ],
      "execution_count": null,
      "outputs": [
        {
          "output_type": "stream",
          "text": [
            "NMI :  0.4237737734704243\n",
            "ARI :  0.5314393841230972\n",
            "Purity :  0.8095238095238095\n"
          ],
          "name": "stdout"
        }
      ]
    },
    {
      "cell_type": "markdown",
      "metadata": {
        "id": "YXzhUADpOkwy"
      },
      "source": [
        "### Girvan Newman"
      ]
    },
    {
      "cell_type": "markdown",
      "metadata": {
        "id": "Jwz_jCYiLbse"
      },
      "source": [
        "* Using in built Girvan-newmann algorithm for creation of graph and then finding communities from it."
      ]
    },
    {
      "cell_type": "code",
      "metadata": {
        "colab": {
          "base_uri": "https://localhost:8080/"
        },
        "id": "B1zzmoz7OopO",
        "outputId": "afa5ec89-d650-4fa3-e0b3-841875b8ab52"
      },
      "source": [
        "books_girvan = algorithms.girvan_newman(book_graph, level=2)\n",
        "print(books_girvan.communities)"
      ],
      "execution_count": null,
      "outputs": [
        {
          "output_type": "stream",
          "text": [
            "[[0, 1, 2, 3, 4, 5, 6, 7, 8, 9, 10, 11, 12, 13, 14, 15, 16, 17, 18, 19, 20, 21, 22, 23, 24, 25, 26, 27, 29, 32, 33, 34, 35, 36, 37, 38, 39, 40, 41, 42, 43, 44, 45, 46, 47, 48, 49, 50, 53, 54, 55, 56, 57], [28, 30, 31, 59, 60, 61, 62, 63, 66, 67, 70, 71, 72, 73, 74, 75, 76, 77, 78, 79, 80, 81, 82, 83, 84, 85, 86, 87, 88, 89, 90, 91, 92, 93, 94, 95, 96, 97, 98, 99, 100, 101, 102, 103, 104], [64, 65, 68, 69, 51, 52, 58]]\n"
          ],
          "name": "stdout"
        }
      ]
    },
    {
      "cell_type": "markdown",
      "metadata": {
        "id": "Taf530cTLpJt"
      },
      "source": [
        "* Generating predicted truth values for each node relating them with a cluster index denoting the label of cluster that they belong to.\n",
        "\n",
        "* Evaluate metrics"
      ]
    },
    {
      "cell_type": "code",
      "metadata": {
        "colab": {
          "base_uri": "https://localhost:8080/"
        },
        "id": "ZFonQItsRo3F",
        "outputId": "82c0de7d-88e2-4862-b50e-81218600b9df"
      },
      "source": [
        "book_pred_vals_girvan = [0]*105\n",
        "new_cluster_dic = {\n",
        "                    0: [0, 1, 2, 3, 4, 5, 6, 7, 8, 9, 10, 11, 12, 13, 14, 15, 16, 17, 18, 19, 20, 21, 22, 23, 24, 25, 26, 27, 29, 32, 33, 34, 35, 36, 37, 38, 39, 40, 41, 42, 43, 44, 45, 46, 47, 48, 49, 50, 53, 54, 55, 56, 57], \n",
        "                    1: [28, 30, 31, 59, 60, 61, 62, 63, 66, 67, 70, 71, 72, 73, 74, 75, 76, 77, 78, 79, 80, 81, 82, 83, 84, 85, 86, 87, 88, 89, 90, 91, 92, 93, 94, 95, 96, 97, 98, 99, 100, 101, 102, 103, 104], \n",
        "                    2: [64, 65, 68, 69, 51, 52, 58]\n",
        "                  }\n",
        "\n",
        "for key in new_cluster_dic.keys() :\n",
        "  for val in new_cluster_dic[key] :\n",
        "    book_pred_vals_girvan[val] = key\n",
        "\n",
        "print(\"NMI : \", calculateNMI(books_truth, book_pred_vals_girvan))\n",
        "print(\"ARI : \", calculateARI(books_truth, book_pred_vals_girvan))\n",
        "print(\"Purity : \", calculatePurity(books_truth, book_pred_vals_girvan))\n"
      ],
      "execution_count": null,
      "outputs": [
        {
          "output_type": "stream",
          "text": [
            "NMI :  0.5754215653909663\n",
            "ARI :  0.6795097820780607\n",
            "Purity :  0.8476190476190476\n"
          ],
          "name": "stdout"
        }
      ]
    }
  ]
}